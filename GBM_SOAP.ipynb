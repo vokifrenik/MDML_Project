{
 "cells": [
  {
   "cell_type": "code",
   "execution_count": 1,
   "metadata": {},
   "outputs": [],
   "source": [
    "import numpy as np\n",
    "import pandas as pd\n",
    "import json\n",
    "from dscribe.descriptors import CoulombMatrix\n",
    "from ase import Atoms\n",
    "import matplotlib.pyplot as plt\n",
    "\n",
    "\n",
    "test = pd.read_json('data/test.json')\n",
    "train = pd.read_json('data/train.json')\n",
    "## Transform atoms entry to ASE atoms object\n",
    "train.atoms = train.atoms.apply(lambda x: Atoms(**x)) # OBS This one is important!\n",
    "test.atoms = test.atoms.apply(lambda x: Atoms(**x))\n",
    "\n",
    "species = []\n",
    "number_of_atoms = []\n",
    "atomic_numbers = []\n",
    "for atom in pd.concat([train.atoms,test.atoms]):\n",
    "    species = list(set(species+atom.get_chemical_symbols()))\n",
    "    atomic_numbers = list(set(atomic_numbers+list(atom.get_atomic_numbers())))\n",
    "    number_of_atoms.append(len(atom))\n",
    "\n",
    "max_number_of_atoms = np.max(number_of_atoms)\n",
    "min_atomic_number = np.min(atomic_numbers)\n",
    "max_atomic_number = np.max(atomic_numbers)"
   ]
  },
  {
   "cell_type": "code",
   "execution_count": 2,
   "metadata": {},
   "outputs": [],
   "source": [
    "from dscribe.descriptors import SOAP,CoulombMatrix\n",
    "\n",
    "r_cut = 6\n",
    "n_max = 2\n",
    "l_max = 2\n",
    "\n",
    "# Setting up the SOAP descriptor\n",
    "soap = SOAP(\n",
    "    species=species,\n",
    "    periodic=True,\n",
    "    r_cut=r_cut,\n",
    "    n_max=n_max,\n",
    "    l_max=l_max,\n",
    "    average = 'inner'\n",
    ")"
   ]
  },
  {
   "cell_type": "code",
   "execution_count": 3,
   "metadata": {},
   "outputs": [
    {
     "name": "stdout",
     "output_type": "stream",
     "text": [
      "1\n",
      "1001\n",
      "2001\n",
      "3001\n",
      "4001\n",
      "5001\n",
      "6001\n",
      "7001\n"
     ]
    }
   ],
   "source": [
    "soap_mats = np.zeros((len(train.atoms),23250))\n",
    "for i,atoms in enumerate(train.atoms):\n",
    "    if i%1000 == 1:\n",
    "        print(i)\n",
    "    soap_mats[i,:] = soap.create(atoms)"
   ]
  },
  {
   "cell_type": "code",
   "execution_count": 4,
   "metadata": {},
   "outputs": [],
   "source": [
    "X = pd.DataFrame(data = soap_mats, index=train.id)\n",
    "y = train['hform']"
   ]
  },
  {
   "cell_type": "code",
   "execution_count": 5,
   "metadata": {},
   "outputs": [
    {
     "name": "stdout",
     "output_type": "stream",
     "text": [
      "With 200 PCA components 93.8856% of the variance is explained\n"
     ]
    }
   ],
   "source": [
    "from sklearn.decomposition import PCA\n",
    "\n",
    "n_comp_PCA = 200\n",
    "\n",
    "pca = PCA(n_components = n_comp_PCA).fit(X)\n",
    "X_PCA = pca.transform(X)\n",
    "print(\"With {} PCA components {var:0.4f}% of the variance is explained\".format(n_comp_PCA, var = 100*np.sum(pca.explained_variance_ratio_)))"
   ]
  },
  {
   "cell_type": "code",
   "execution_count": 10,
   "metadata": {},
   "outputs": [
    {
     "data": {
      "text/plain": [
       "(1600, 200)"
      ]
     },
     "execution_count": 10,
     "metadata": {},
     "output_type": "execute_result"
    }
   ],
   "source": [
    "np.shape(X_test)"
   ]
  },
  {
   "cell_type": "code",
   "execution_count": 8,
   "metadata": {},
   "outputs": [],
   "source": [
    "from sklearn.model_selection import train_test_split\n",
    "\n",
    "X_train,X_test,y_train,y_test = train_test_split(X_PCA,y,test_size=0.2,random_state=251)"
   ]
  },
  {
   "cell_type": "code",
   "execution_count": null,
   "metadata": {},
   "outputs": [
    {
     "name": "stdout",
     "output_type": "stream",
     "text": [
      "Learning = 7999 Train RMSE = 0.01\n",
      "Learning = 7999 Test RMSE = 0.26\n"
     ]
    }
   ],
   "source": [
    "from sklearn import ensemble\n",
    "from sklearn.metrics import mean_squared_error as mse\n",
    "\n",
    "def rmse(y_true, y_pred):\n",
    "    return np.sqrt(mse(y_true, y_pred))\n",
    "\n",
    "params = {\n",
    "        \"n_estimators\": 400,\n",
    "        \"max_depth\": 7,\n",
    "        \"min_samples_split\": 7,\n",
    "        \"learning_rate\": 0.1,\n",
    "        \"loss\": \"squared_error\",\n",
    "    }\n",
    "\n",
    "reg = ensemble.GradientBoostingRegressor(**params)\n",
    "reg.fit(X_train, y_train)\n",
    "train_prediction = reg.predict(X_train)\n",
    "test_prediction = reg.predict(X_test)\n",
    "print('Train RMSE = {:.2f}'.format(rmse(y_train,train_prediction)))\n",
    "print('Test RMSE = {:.2f}'.format(rmse(y_test,test_prediction)))"
   ]
  },
  {
   "cell_type": "code",
   "execution_count": 14,
   "metadata": {},
   "outputs": [
    {
     "data": {
      "image/png": "[encoded data removed]",
      "text/plain": [
       "<Figure size 432x432 with 1 Axes>"
      ]
     },
     "metadata": {
      "needs_background": "light"
     },
     "output_type": "display_data"
    }
   ],
   "source": [
    "test_score = np.zeros((params[\"n_estimators\"],), dtype=np.float64)\n",
    "for i, y_pred in enumerate(reg.staged_predict(X_test)):\n",
    "    test_score[i] = rmse(y_test, y_pred)\n",
    "\n",
    "fig = plt.figure(figsize=(6, 6))\n",
    "plt.subplot(1, 1, 1)\n",
    "plt.title(\"Deviance\")\n",
    "plt.plot(\n",
    "    np.arange(params[\"n_estimators\"]) + 1,\n",
    "    reg.train_score_,\n",
    "    \"b-\",\n",
    "    label=\"Training Set Deviance\",\n",
    ")\n",
    "plt.plot(\n",
    "    np.arange(params[\"n_estimators\"]) + 1, test_score, \"r-\", label=\"Test Set Deviance\"\n",
    ")\n",
    "plt.legend(loc=\"upper right\")\n",
    "plt.xlabel(\"Boosting Iterations\")\n",
    "plt.ylabel(\"Deviance\")\n",
    "fig.tight_layout()\n",
    "plt.show()\n"
   ]
  }
 ],
 "metadata": {
  "kernelspec": {
   "display_name": "base",
   "language": "python",
   "name": "python3"
  },
  "language_info": {
   "codemirror_mode": {
    "name": "ipython",
    "version": 3
   },
   "file_extension": ".py",
   "mimetype": "text/x-python",
   "name": "python",
   "nbconvert_exporter": "python",
   "pygments_lexer": "ipython3",
   "version": "3.9.12"
  }
 },
 "nbformat": 4,
 "nbformat_minor": 2
}
