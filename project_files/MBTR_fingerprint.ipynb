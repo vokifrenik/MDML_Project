{
 "cells": [
  {
   "cell_type": "markdown",
   "metadata": {},
   "source": [
    "## Fingerprint for Many-Body Tensor Representation"
   ]
  },
  {
   "cell_type": "markdown",
   "metadata": {},
   "source": [
    "# Load data"
   ]
  },
  {
   "cell_type": "code",
   "execution_count": 1,
   "metadata": {},
   "outputs": [],
   "source": [
    "import pandas as pd \n",
    "import numpy as np \n",
    "import os \n",
    "from ase import Atoms \n",
    "import json \n",
    "from dscribe.descriptors import MBTR\n",
    "import matplotlib.pyplot as plt "
   ]
  },
  {
   "cell_type": "code",
   "execution_count": 2,
   "metadata": {},
   "outputs": [],
   "source": [
    "# Imports data \n",
    "data_path = \"/Users/rasmusniemann/Desktop/materials_with_AI/final_project/MDML_Project/data/\"\n",
    "train_data = pd.DataFrame(json.load(open(data_path + \"train.json\", \"rb\")))\n",
    "test_data = pd.DataFrame(json.load(open(data_path + \"test.json\", \"rb\")))\n"
   ]
  },
  {
   "cell_type": "code",
   "execution_count": 3,
   "metadata": {},
   "outputs": [],
   "source": [
    "train_data.atoms = train_data.atoms.apply(lambda x: Atoms(**x))\n",
    "test_data.atoms = test_data.atoms.apply(lambda x: Atoms(**x))"
   ]
  },
  {
   "cell_type": "code",
   "execution_count": 4,
   "metadata": {},
   "outputs": [
    {
     "data": {
      "text/html": [
       "<div>\n",
       "<style scoped>\n",
       "    .dataframe tbody tr th:only-of-type {\n",
       "        vertical-align: middle;\n",
       "    }\n",
       "\n",
       "    .dataframe tbody tr th {\n",
       "        vertical-align: top;\n",
       "    }\n",
       "\n",
       "    .dataframe thead th {\n",
       "        text-align: right;\n",
       "    }\n",
       "</style>\n",
       "<table border=\"1\" class=\"dataframe\">\n",
       "  <thead>\n",
       "    <tr style=\"text-align: right;\">\n",
       "      <th></th>\n",
       "      <th>id</th>\n",
       "      <th>formula</th>\n",
       "      <th>atoms</th>\n",
       "      <th>hform</th>\n",
       "    </tr>\n",
       "  </thead>\n",
       "  <tbody>\n",
       "    <tr>\n",
       "      <th>0</th>\n",
       "      <td>5154</td>\n",
       "      <td>Zr2BO2</td>\n",
       "      <td>(Atom('Zr', [1.6878604657, 0.892285133, 8.1345...</td>\n",
       "      <td>-2.037877</td>\n",
       "    </tr>\n",
       "    <tr>\n",
       "      <th>1</th>\n",
       "      <td>984</td>\n",
       "      <td>Ni2S6</td>\n",
       "      <td>(Atom('Ni', [1.1571403137, 0.934725185, 12.234...</td>\n",
       "      <td>-0.091020</td>\n",
       "    </tr>\n",
       "    <tr>\n",
       "      <th>2</th>\n",
       "      <td>1634</td>\n",
       "      <td>Cd4K2Cl6O6Te2</td>\n",
       "      <td>(Atom('Cd', [2.7840261751, 5.6922402759, 26.71...</td>\n",
       "      <td>-1.109751</td>\n",
       "    </tr>\n",
       "    <tr>\n",
       "      <th>3</th>\n",
       "      <td>1872</td>\n",
       "      <td>Hf4H2N3O2</td>\n",
       "      <td>(Atom('Hf', [0.0, 1.8677827772, 12.2421466347]...</td>\n",
       "      <td>-1.609142</td>\n",
       "    </tr>\n",
       "    <tr>\n",
       "      <th>4</th>\n",
       "      <td>2977</td>\n",
       "      <td>Sc2Te2</td>\n",
       "      <td>(Atom('Te', [0.0003850118, 0.0002469812, 7.461...</td>\n",
       "      <td>-0.854593</td>\n",
       "    </tr>\n",
       "    <tr>\n",
       "      <th>...</th>\n",
       "      <td>...</td>\n",
       "      <td>...</td>\n",
       "      <td>...</td>\n",
       "      <td>...</td>\n",
       "    </tr>\n",
       "    <tr>\n",
       "      <th>7995</th>\n",
       "      <td>2130</td>\n",
       "      <td>Hf3MoBr5I3</td>\n",
       "      <td>(Atom('Br', [2.4481979468, 2.8854952652, 26.43...</td>\n",
       "      <td>-0.794205</td>\n",
       "    </tr>\n",
       "    <tr>\n",
       "      <th>7996</th>\n",
       "      <td>7940</td>\n",
       "      <td>AgCrAs2Te6</td>\n",
       "      <td>(Atom('As', [5.9109525269, 1.6988849881, 17.97...</td>\n",
       "      <td>-0.040058</td>\n",
       "    </tr>\n",
       "    <tr>\n",
       "      <th>7997</th>\n",
       "      <td>14035</td>\n",
       "      <td>Cd4Rb2I6S8</td>\n",
       "      <td>(Atom('Cd', [3.3569722126, 7.5099921369, 26.50...</td>\n",
       "      <td>-0.473134</td>\n",
       "    </tr>\n",
       "    <tr>\n",
       "      <th>7998</th>\n",
       "      <td>2842</td>\n",
       "      <td>Ba2CdCuTlS5</td>\n",
       "      <td>(Atom('Cd', [4.427838878e-17, 3.263191886e-16,...</td>\n",
       "      <td>-0.769551</td>\n",
       "    </tr>\n",
       "    <tr>\n",
       "      <th>7999</th>\n",
       "      <td>5196</td>\n",
       "      <td>WAsSb</td>\n",
       "      <td>(Atom('W', [-2.781539302e-18, -2.251659159e-16...</td>\n",
       "      <td>0.233728</td>\n",
       "    </tr>\n",
       "  </tbody>\n",
       "</table>\n",
       "<p>8000 rows × 4 columns</p>\n",
       "</div>"
      ],
      "text/plain": [
       "         id        formula                                              atoms  \\\n",
       "0      5154         Zr2BO2  (Atom('Zr', [1.6878604657, 0.892285133, 8.1345...   \n",
       "1       984          Ni2S6  (Atom('Ni', [1.1571403137, 0.934725185, 12.234...   \n",
       "2      1634  Cd4K2Cl6O6Te2  (Atom('Cd', [2.7840261751, 5.6922402759, 26.71...   \n",
       "3      1872      Hf4H2N3O2  (Atom('Hf', [0.0, 1.8677827772, 12.2421466347]...   \n",
       "4      2977         Sc2Te2  (Atom('Te', [0.0003850118, 0.0002469812, 7.461...   \n",
       "...     ...            ...                                                ...   \n",
       "7995   2130     Hf3MoBr5I3  (Atom('Br', [2.4481979468, 2.8854952652, 26.43...   \n",
       "7996   7940     AgCrAs2Te6  (Atom('As', [5.9109525269, 1.6988849881, 17.97...   \n",
       "7997  14035     Cd4Rb2I6S8  (Atom('Cd', [3.3569722126, 7.5099921369, 26.50...   \n",
       "7998   2842    Ba2CdCuTlS5  (Atom('Cd', [4.427838878e-17, 3.263191886e-16,...   \n",
       "7999   5196          WAsSb  (Atom('W', [-2.781539302e-18, -2.251659159e-16...   \n",
       "\n",
       "         hform  \n",
       "0    -2.037877  \n",
       "1    -0.091020  \n",
       "2    -1.109751  \n",
       "3    -1.609142  \n",
       "4    -0.854593  \n",
       "...        ...  \n",
       "7995 -0.794205  \n",
       "7996 -0.040058  \n",
       "7997 -0.473134  \n",
       "7998 -0.769551  \n",
       "7999  0.233728  \n",
       "\n",
       "[8000 rows x 4 columns]"
      ]
     },
     "execution_count": 4,
     "metadata": {},
     "output_type": "execute_result"
    }
   ],
   "source": [
    "train_data"
   ]
  },
  {
   "cell_type": "code",
   "execution_count": null,
   "metadata": {},
   "outputs": [],
   "source": []
  },
  {
   "cell_type": "markdown",
   "metadata": {},
   "source": [
    "### MBTR"
   ]
  },
  {
   "cell_type": "code",
   "execution_count": 5,
   "metadata": {},
   "outputs": [
    {
     "name": "stdout",
     "output_type": "stream",
     "text": [
      "Max 20 atoms\n"
     ]
    }
   ],
   "source": [
    "# I think I might only be using the species list tbh\n",
    "species = []\n",
    "number_of_atoms = []\n",
    "atomic_numbers = []\n",
    "for atom in train_data.atoms:\n",
    "    species = list(set(species+atom.get_chemical_symbols()))\n",
    "    atomic_numbers = list(set(atomic_numbers+list(atom.get_atomic_numbers())))\n",
    "    number_of_atoms.append(len(atom))\n",
    "\n",
    "max_number_of_atoms = np.max(number_of_atoms)\n",
    "min_atomic_number = np.min(atomic_numbers)\n",
    "max_atomic_number = np.max(atomic_numbers)\n",
    "print('Max {} atoms'.format(max_number_of_atoms))"
   ]
  },
  {
   "cell_type": "code",
   "execution_count": 6,
   "metadata": {},
   "outputs": [],
   "source": [
    "# Setup Many-Body Tensor Representation object\n",
    "mbtr = MBTR(\n",
    "    # Species list\n",
    "    species=species,\n",
    "    # \n",
    "    geometry={\"function\": \"inverse_distance\"},\n",
    "    grid={\"min\": 0, \"max\": 1, \"n\": 10, \"sigma\": 0.1},\n",
    "    weighting={\"function\": \"exp\", \"scale\": 0.5, \"threshold\": 1e-3},\n",
    "    periodic=True,\n",
    "    normalization=\"l2\",\n",
    ") "
   ]
  },
  {
   "cell_type": "code",
   "execution_count": 7,
   "metadata": {},
   "outputs": [
    {
     "name": "stdout",
     "output_type": "stream",
     "text": [
      "[0. 0. 0. ... 0. 0. 0.]\n",
      "(19530,)\n"
     ]
    }
   ],
   "source": [
    "# Create MBTR output for the system\n",
    "\n",
    "structure_test = train_data.atoms[0]\n",
    "\n",
    "mbtr_water = mbtr.create(structure_test)\n",
    "\n",
    "print(mbtr_water)\n",
    "print(mbtr_water.shape)"
   ]
  },
  {
   "cell_type": "code",
   "execution_count": 8,
   "metadata": {},
   "outputs": [
    {
     "name": "stdout",
     "output_type": "stream",
     "text": [
      "Converted training data fingerprints:\n",
      "0\n",
      "Converted training data fingerprints:\n",
      "1000\n",
      "Converted training data fingerprints:\n",
      "2000\n",
      "Converted training data fingerprints:\n",
      "3000\n",
      "Converted training data fingerprints:\n",
      "4000\n",
      "Converted training data fingerprints:\n",
      "5000\n",
      "Converted training data fingerprints:\n",
      "6000\n",
      "Converted training data fingerprints:\n",
      "7000\n",
      "Converted test data fingerprints:\n",
      "0\n",
      "Converted test data fingerprints:\n",
      "1000\n",
      "Converted test data fingerprints:\n",
      "2000\n",
      "Converted test data fingerprints:\n",
      "3000\n"
     ]
    }
   ],
   "source": [
    "# Transform data \n",
    "training = []\n",
    "testing = []\n",
    "\n",
    "for i, atom_train in enumerate(train_data.atoms):\n",
    "\n",
    "    if i % 1000 == 0:\n",
    "        print(\"Converted training data fingerprints:\")\n",
    "        print(i)\n",
    "\n",
    "    train_fingerprint = mbtr.create(atom_train)\n",
    "    \n",
    "\n",
    "    training.append(train_fingerprint)\n",
    "    \n",
    "for i, atom_test in enumerate(test_data.atoms):\n",
    "    if i % 1000 == 0:\n",
    "        print(\"Converted test data fingerprints:\")\n",
    "        print(i)\n",
    "    \n",
    "    test_fingerprint = mbtr.create(atom_test)\n",
    "    testing.append(test_fingerprint)\n"
   ]
  },
  {
   "cell_type": "code",
   "execution_count": 9,
   "metadata": {},
   "outputs": [],
   "source": [
    "X_train1 = pd.DataFrame(data=training, index = train_data.index)\n",
    "X_test1 = pd.DataFrame(data=testing, index = test_data.index)\n",
    "y = train_data.hform"
   ]
  },
  {
   "cell_type": "code",
   "execution_count": 10,
   "metadata": {},
   "outputs": [
    {
     "data": {
      "text/plain": [
       "19530"
      ]
     },
     "execution_count": 10,
     "metadata": {},
     "output_type": "execute_result"
    }
   ],
   "source": [
    "len(testing[0])"
   ]
  },
  {
   "cell_type": "code",
   "execution_count": 11,
   "metadata": {},
   "outputs": [
    {
     "name": "stdout",
     "output_type": "stream",
     "text": [
      "X: (8000, 19530)\n",
      "y: (8000,)\n",
      "Xtest: (4000, 19530)\n"
     ]
    }
   ],
   "source": [
    "print('X: {}'.format(X_train1.shape))\n",
    "print('y: {}'.format(y.shape))\n",
    "print('Xtest: {}'.format(X_test1.shape))"
   ]
  },
  {
   "cell_type": "code",
   "execution_count": 17,
   "metadata": {},
   "outputs": [
    {
     "name": "stdout",
     "output_type": "stream",
     "text": [
      "With 450 PCA components 91.3573% of the variance is explained\n",
      "X_train: (8000, 450)\n",
      "X_test: (4000, 450)\n"
     ]
    }
   ],
   "source": [
    "# Reduce fingerprint dimensionality\n",
    "from sklearn.decomposition import PCA \n",
    "n_comp_PCA = 450\n",
    "\n",
    "pca = PCA(n_components = n_comp_PCA).fit(X_train1)\n",
    "X_train = pca.transform(X_train1)\n",
    "X_test = pca.transform(X_test1)\n",
    "print(\"With {} PCA components {var:0.4f}% of the variance is explained\".format(n_comp_PCA, var = 100*np.sum(pca.explained_variance_ratio_)))\n",
    "print('X_train: {}'.format(X_train.shape))\n",
    "print('X_test: {}'.format(X_test.shape))"
   ]
  },
  {
   "cell_type": "code",
   "execution_count": 16,
   "metadata": {},
   "outputs": [
    {
     "name": "stdout",
     "output_type": "stream",
     "text": [
      "414\n"
     ]
    }
   ],
   "source": [
    "# Check variance \n",
    "variance = 0\n",
    "for i, var in enumerate(pca.explained_variance_ratio_):\n",
    "    variance += var \n",
    "    if variance > 0.90:\n",
    "        print(i)\n",
    "        break"
   ]
  },
  {
   "cell_type": "code",
   "execution_count": 14,
   "metadata": {},
   "outputs": [],
   "source": [
    "# dist = []\n",
    "# for i in range(len(X_train)):\n",
    "#     dist.append(np.linalg.norm(X_train[0]-X_train[i]))\n",
    "    "
   ]
  },
  {
   "cell_type": "code",
   "execution_count": 15,
   "metadata": {},
   "outputs": [],
   "source": [
    "# dist = np.array(dist)\n",
    "# np.mean(dist)"
   ]
  },
  {
   "cell_type": "code",
   "execution_count": null,
   "metadata": {},
   "outputs": [],
   "source": [
    "# Log test\n",
    "\n",
    "\n",
    "\n"
   ]
  }
 ],
 "metadata": {
  "kernelspec": {
   "display_name": "base",
   "language": "python",
   "name": "python3"
  },
  "language_info": {
   "codemirror_mode": {
    "name": "ipython",
    "version": 3
   },
   "file_extension": ".py",
   "mimetype": "text/x-python",
   "name": "python",
   "nbconvert_exporter": "python",
   "pygments_lexer": "ipython3",
   "version": "3.9.17"
  }
 },
 "nbformat": 4,
 "nbformat_minor": 2
}
